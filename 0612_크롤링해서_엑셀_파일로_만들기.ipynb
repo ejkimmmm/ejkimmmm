{
  "nbformat": 4,
  "nbformat_minor": 0,
  "metadata": {
    "colab": {
      "provenance": [],
      "authorship_tag": "ABX9TyMgYHxR6yj7cwkPBYkdiChe",
      "include_colab_link": true
    },
    "kernelspec": {
      "name": "python3",
      "display_name": "Python 3"
    },
    "language_info": {
      "name": "python"
    }
  },
  "cells": [
    {
      "cell_type": "markdown",
      "metadata": {
        "id": "view-in-github",
        "colab_type": "text"
      },
      "source": [
        "<a href=\"https://colab.research.google.com/github/ejkimmmm/ejkimmmm/blob/main/0612_%ED%81%AC%EB%A1%A4%EB%A7%81%ED%95%B4%EC%84%9C_%EC%97%91%EC%85%80_%ED%8C%8C%EC%9D%BC%EB%A1%9C_%EB%A7%8C%EB%93%A4%EA%B8%B0.ipynb\" target=\"_parent\"><img src=\"https://colab.research.google.com/assets/colab-badge.svg\" alt=\"Open In Colab\"/></a>"
      ]
    },
    {
      "cell_type": "code",
      "execution_count": 1,
      "metadata": {
        "id": "hGFOxQhOZJPd"
      },
      "outputs": [],
      "source": [
        "import openpyxl"
      ]
    },
    {
      "cell_type": "code",
      "source": [
        "excel_file = openpyxl.Workbook()\n",
        "\n",
        "# 엑셀 파일이 생성되면 디폴트 시트가 생성, .active로 해당 시트 선택\n",
        "# 해당 쉬트 이름을 변경하려면 .title 사용\n",
        "excel_sheet = excel_file.active\n",
        "\n",
        "# .append 데이터 추가하기\n",
        "excel_sheet.append(['data1', 'data2', 'data3'])\n",
        "\n",
        "# .save 파일 저장하기\n",
        "excel_file.save('tmp.xlsx')\n",
        "\n",
        "# .close 파일 닫기\n",
        "excel_file.close()"
      ],
      "metadata": {
        "id": "ENSJGPjUZarR"
      },
      "execution_count": 4,
      "outputs": []
    },
    {
      "cell_type": "code",
      "source": [],
      "metadata": {
        "id": "ijclPwBgZ2KJ"
      },
      "execution_count": null,
      "outputs": []
    }
  ]
}